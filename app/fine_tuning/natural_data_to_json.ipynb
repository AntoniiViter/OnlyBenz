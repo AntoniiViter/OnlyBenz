{
 "cells": [
  {
   "cell_type": "code",
   "execution_count": 1,
   "outputs": [
    {
     "name": "stdout",
     "output_type": "stream",
     "text": [
      "New file created with initial context: natural_data_to_json_training_set_with_initial_context.jsonl\n"
     ]
    }
   ],
   "source": [
    "import json\n",
    "from openai import OpenAI\n",
    "from app.utils import prepend_initial_context_to_jsonl, generate_initial_context_ndtj\n",
    "\n",
    "with open('../../config/settings.json', 'r') as config_file:\n",
    "    config = json.load(config_file)\n",
    "client = OpenAI(api_key=config['openAI_api']['key'])\n",
    "\n",
    "initial_context = generate_initial_context_ndtj()\n",
    "\n",
    "# Prepend generated data to the JSONL file\n",
    "prepend_initial_context_to_jsonl(initial_context, \"natural_data_to_json_training_set.jsonl\")"
   ],
   "metadata": {
    "collapsed": false,
    "ExecuteTime": {
     "end_time": "2024-08-19T23:19:27.864831Z",
     "start_time": "2024-08-19T23:19:27.399518Z"
    }
   },
   "id": "13c855b7fca4ce75"
  },
  {
   "cell_type": "code",
   "execution_count": 2,
   "outputs": [
    {
     "data": {
      "text/plain": "FileObject(id='file-frNWWFTsnKmot0NWbYOWyBQh', bytes=27632, created_at=1724109583, filename='natural_data_to_json_training_set_with_initial_context.jsonl', object='file', purpose='fine-tune', status='processed', status_details=None)"
     },
     "execution_count": 2,
     "metadata": {},
     "output_type": "execute_result"
    }
   ],
   "source": [
    "client.files.create(\n",
    "  file=open(\"natural_data_to_json_training_set_with_initial_context.jsonl\", \"rb\"),\n",
    "  purpose=\"fine-tune\"\n",
    ")"
   ],
   "metadata": {
    "collapsed": false,
    "ExecuteTime": {
     "end_time": "2024-08-19T23:19:44.242838Z",
     "start_time": "2024-08-19T23:19:43.456377Z"
    }
   },
   "id": "d445d0178e636cbb"
  },
  {
   "cell_type": "code",
   "execution_count": 3,
   "outputs": [
    {
     "data": {
      "text/plain": "FineTuningJob(id='ftjob-8kBzBaeyXOmzBl7GTbeQqBKj', created_at=1724109606, error=Error(code=None, message=None, param=None), fine_tuned_model=None, finished_at=None, hyperparameters=Hyperparameters(n_epochs='auto', batch_size='auto', learning_rate_multiplier='auto'), model='gpt-4o-mini-2024-07-18', object='fine_tuning.job', organization_id='org-xphpBJRKAxEJdvK3xoUlPYXm', result_files=[], seed=1332906992, status='validating_files', trained_tokens=None, training_file='file-frNWWFTsnKmot0NWbYOWyBQh', validation_file=None, integrations=[], user_provided_suffix=None, estimated_finish=None)"
     },
     "execution_count": 3,
     "metadata": {},
     "output_type": "execute_result"
    }
   ],
   "source": [
    "#Don't forget to change the value of training_file with the file id from the Out 2 \n",
    "client.fine_tuning.jobs.create(\n",
    "  training_file=\"file-frNWWFTsnKmot0NWbYOWyBQh\", \n",
    "  model=\"gpt-4o-mini-2024-07-18\"\n",
    ")"
   ],
   "metadata": {
    "collapsed": false,
    "ExecuteTime": {
     "end_time": "2024-08-19T23:20:06.966425Z",
     "start_time": "2024-08-19T23:20:04.703590Z"
    }
   },
   "id": "b8034bc96f2c37a4"
  },
  {
   "cell_type": "code",
   "execution_count": 40,
   "outputs": [],
   "source": [],
   "metadata": {
    "collapsed": false,
    "ExecuteTime": {
     "end_time": "2024-08-17T23:08:33.462692Z",
     "start_time": "2024-08-17T23:08:33.458154Z"
    }
   },
   "id": "1e9874569a8d8f6c"
  }
 ],
 "metadata": {
  "kernelspec": {
   "display_name": "Python 3",
   "language": "python",
   "name": "python3"
  },
  "language_info": {
   "codemirror_mode": {
    "name": "ipython",
    "version": 2
   },
   "file_extension": ".py",
   "mimetype": "text/x-python",
   "name": "python",
   "nbconvert_exporter": "python",
   "pygments_lexer": "ipython2",
   "version": "2.7.6"
  }
 },
 "nbformat": 4,
 "nbformat_minor": 5
}
