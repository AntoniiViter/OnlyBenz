{
 "cells": [
  {
   "cell_type": "code",
   "execution_count": 1,
   "outputs": [
    {
     "name": "stdout",
     "output_type": "stream",
     "text": [
      "New file created with initial context: human_preference_to_json_training_set_with_initial_context.jsonl\n"
     ]
    }
   ],
   "source": [
    "import json\n",
    "from openai import OpenAI\n",
    "from app.utils import prepend_initial_context_to_jsonl, generate_initial_context_hptj\n",
    "\n",
    "with open('../../config/settings.json', 'r') as config_file:\n",
    "    config = json.load(config_file)\n",
    "client = OpenAI(api_key=config['openAI_api']['key'])\n",
    "\n",
    "initial_context = generate_initial_context_hptj()\n",
    "\n",
    "# Prepend generated data to the JSONL file\n",
    "prepend_initial_context_to_jsonl(initial_context, \"human_preference_to_json_training_set.jsonl\")"
   ],
   "metadata": {
    "collapsed": false,
    "ExecuteTime": {
     "end_time": "2024-08-19T02:24:18.442390Z",
     "start_time": "2024-08-19T02:24:17.959234Z"
    }
   },
   "id": "e8469c8bc08a6775"
  },
  {
   "cell_type": "code",
   "execution_count": 2,
   "outputs": [
    {
     "data": {
      "text/plain": "FileObject(id='file-j2jxoXpFWxvFJWP0Tbl68rrT', bytes=10985, created_at=1724034293, filename='human_preference_to_json_training_set_with_initial_context.jsonl', object='file', purpose='fine-tune', status='processed', status_details=None)"
     },
     "execution_count": 2,
     "metadata": {},
     "output_type": "execute_result"
    }
   ],
   "source": [
    "client.files.create(\n",
    "  file=open(\"human_preference_to_json_training_set_with_initial_context.jsonl\", \"rb\"),\n",
    "  purpose=\"fine-tune\"\n",
    ")"
   ],
   "metadata": {
    "collapsed": false,
    "ExecuteTime": {
     "end_time": "2024-08-19T02:24:54.417427Z",
     "start_time": "2024-08-19T02:24:53.466664Z"
    }
   },
   "id": "993c23d18c8ee82b"
  },
  {
   "cell_type": "code",
   "execution_count": 3,
   "outputs": [
    {
     "data": {
      "text/plain": "FineTuningJob(id='ftjob-7B5HTQR51mlS2ts78mcpMJC2', created_at=1724034307, error=Error(code=None, message=None, param=None), fine_tuned_model=None, finished_at=None, hyperparameters=Hyperparameters(n_epochs='auto', batch_size='auto', learning_rate_multiplier='auto'), model='gpt-4o-mini-2024-07-18', object='fine_tuning.job', organization_id='org-xphpBJRKAxEJdvK3xoUlPYXm', result_files=[], seed=1877324666, status='validating_files', trained_tokens=None, training_file='file-j2jxoXpFWxvFJWP0Tbl68rrT', validation_file=None, integrations=[], user_provided_suffix=None, estimated_finish=None)"
     },
     "execution_count": 3,
     "metadata": {},
     "output_type": "execute_result"
    }
   ],
   "source": [
    "client.fine_tuning.jobs.create(\n",
    "  training_file=\"file-j2jxoXpFWxvFJWP0Tbl68rrT\", \n",
    "  model=\"gpt-4o-mini-2024-07-18\"\n",
    ")"
   ],
   "metadata": {
    "collapsed": false,
    "ExecuteTime": {
     "end_time": "2024-08-19T02:25:07.805902Z",
     "start_time": "2024-08-19T02:25:04.247589Z"
    }
   },
   "id": "4d849cb8097f1d99"
  },
  {
   "cell_type": "code",
   "execution_count": null,
   "outputs": [],
   "source": [],
   "metadata": {
    "collapsed": false
   },
   "id": "5b5f52da04cf9aef"
  }
 ],
 "metadata": {
  "kernelspec": {
   "display_name": "Python 3",
   "language": "python",
   "name": "python3"
  },
  "language_info": {
   "codemirror_mode": {
    "name": "ipython",
    "version": 2
   },
   "file_extension": ".py",
   "mimetype": "text/x-python",
   "name": "python",
   "nbconvert_exporter": "python",
   "pygments_lexer": "ipython2",
   "version": "2.7.6"
  }
 },
 "nbformat": 4,
 "nbformat_minor": 5
}
